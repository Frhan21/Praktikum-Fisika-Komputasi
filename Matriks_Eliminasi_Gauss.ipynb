{
  "nbformat": 4,
  "nbformat_minor": 0,
  "metadata": {
    "colab": {
      "name": "Matriks Eliminasi Gauss.ipynb",
      "provenance": [],
      "authorship_tag": "ABX9TyPKPEk1WlFPEg1siyrDAiiS",
      "include_colab_link": true
    },
    "kernelspec": {
      "name": "python3",
      "display_name": "Python 3"
    },
    "language_info": {
      "name": "python"
    }
  },
  "cells": [
    {
      "cell_type": "markdown",
      "metadata": {
        "id": "view-in-github",
        "colab_type": "text"
      },
      "source": [
        "<a href=\"https://colab.research.google.com/github/Frhan21/Praktikum-Fisika-Komputasi/blob/main/Matriks_Eliminasi_Gauss.ipynb\" target=\"_parent\"><img src=\"https://colab.research.google.com/assets/colab-badge.svg\" alt=\"Open In Colab\"/></a>"
      ]
    },
    {
      "cell_type": "code",
      "execution_count": null,
      "metadata": {
        "id": "IfK4hETMu4cR",
        "colab": {
          "base_uri": "https://localhost:8080/"
        },
        "outputId": "70acc9fb-6ec7-45ea-a4e3-7f74d14b43f5"
      },
      "outputs": [
        {
          "output_type": "stream",
          "name": "stdout",
          "text": [
            "Matriks Pertama\n",
            "[[  1.  -1.   1.   0.]\n",
            " [ 10.   0. -30.  10.]\n",
            " [  0.  20.  30. 130.]]\n",
            "\n",
            "\n",
            "Matriks dengan Segitiga Atas\n",
            "[[  1.  -1.   1.   0.]\n",
            " [  0.  10. -40.  10.]\n",
            " [  0.   0. 110. 110.]]\n",
            "\n",
            "[[0.]\n",
            " [0.]\n",
            " [0.]]\n",
            "\n",
            "Hasil akhir Matriks\n",
            "[[4.]\n",
            " [5.]\n",
            " [1.]]\n"
          ]
        }
      ],
      "source": [
        "import numpy as np\n",
        "I = np.array([[1.,-1.,1.,0.],\n",
        "             [10.,0.,-30.,10.],\n",
        "             [0.,20.,30.,130.]]) #Matriks yasng dimasukkan adalah matriks yang diperluas \n",
        "                                   #Dan matriks yang digunakan adalah matriks 2 dimensi \n",
        "\n",
        "\n",
        "# print(I.ndim)\n",
        "print(\"Matriks Pertama\")\n",
        "print (I)\n",
        "\n",
        "print()\n",
        "\n",
        "\n",
        "#Metode Eliminasi Gauss\n",
        "#Metode untuk mendapatkan segitiga atas \n",
        "n = len(I)\n",
        "# print(n)\n",
        "\n",
        "for i in  range (0,n-1):\n",
        "    pivot = I[i][i]\n",
        "    for j in range (i+1,n):\n",
        "        c = I[j][i]/pivot\n",
        "        for k in range (0,n+1):\n",
        "            I[j][k] = I[j][k] - c*I[i][k]\n",
        "print ()\n",
        "print(\"Matriks dengan Segitiga Atas\")\n",
        "print(I) #Memprint Matriks dengan segitiga atas \n",
        "\n",
        "print()\n",
        "x = np.zeros((n,1)) #Nilai n,1 itu ----> baris ,kolom \n",
        "print(x)\n",
        "x [n-1][0]= I[n-1][n] / I[n-1][n-1] \n",
        "for i in range (n-2,-1,-1): #data yang dimulai dari n-2 indeks 1\n",
        "    jum = 0 #Inisialisasi\n",
        "    for j in range(i+1,n):\n",
        "        jum = jum + I[i][j]*x[j][0]\n",
        "        x[i][0] =(I[i][n]-jum)/I[i][i]\n",
        "        \n",
        "print()\n",
        "print(\"Hasil akhir Matriks\")\n",
        "print (x)"
      ]
    },
    {
      "cell_type": "code",
      "source": [
        "#SOAL NO  2 \n",
        "import numpy as np\n",
        "\n",
        "T = np.array([[70,1,0,636],\n",
        "              [60,-1,1,518],\n",
        "              [40,0,-1,307]],float)   \n",
        "\n",
        "print(\"===Matriks Pertama=== \")\n",
        "print(T)\n",
        "\n",
        "N = len(T)\n",
        "\n",
        "\n",
        "#Metode Eliminasi Gauss \n",
        "for i in range (0,N-1):\n",
        "    pivot = T[i][i]\n",
        "    for j in range (i+1,N):\n",
        "        C = T[j][i]/pivot\n",
        "        for k in range (i,N+1):\n",
        "            T[j][k] = T[j][k] - C*T[i][k]\n",
        "\n",
        "print(\"===Matriks Segitiga Atas===\")\n",
        "print(T)\n",
        "\n",
        "#Metode Subsitusi Mundur \n",
        "\n",
        "a = np.zeros((N,1))\n",
        "a [N-1][0]= T[N-1][N] / T[N-1][N-1]\n",
        "\n",
        "for i in range (N-2,-1,-1):\n",
        "    jum = 0\n",
        "    for j in range(i+1,N):\n",
        "        jum = jum + T[i][j]*a[j][0]\n",
        "        a[i][0] =(T[i][N]-jum)/T[i][i]\n",
        "\n",
        "print(\"===Hasil Akhir===\")\n",
        "print(a)"
      ],
      "metadata": {
        "colab": {
          "base_uri": "https://localhost:8080/"
        },
        "id": "tNb1zMlvDL4z",
        "outputId": "7dbc50dd-65cd-4461-b04a-95036cfc8b1c"
      },
      "execution_count": null,
      "outputs": [
        {
          "output_type": "stream",
          "name": "stdout",
          "text": [
            "===Matriks Pertama=== \n",
            "[[ 70.   1.   0. 636.]\n",
            " [ 60.  -1.   1. 518.]\n",
            " [ 40.   0.  -1. 307.]]\n",
            "===Matriks Segitiga Atas===\n",
            "[[ 70.           1.           0.         636.        ]\n",
            " [  0.          -1.85714286   1.         -27.14285714]\n",
            " [  0.           0.          -1.30769231 -48.07692308]]\n",
            "===Hasil Akhir===\n",
            "[[ 8.59411765]\n",
            " [34.41176471]\n",
            " [36.76470588]]\n"
          ]
        }
      ]
    },
    {
      "cell_type": "code",
      "source": [
        "def cetakmatriks(matriks):\n",
        "    for row in matriks:\n",
        "        print (row)\n",
        "def pjgmatriks(matriks):\n",
        "    return len(matriks[0])\n",
        "def lbrmatriks(matriks):\n",
        "    return len(matriks[0])\n",
        "def jumlahmatriks(matA,matB):\n",
        "    temp_row=[]\n",
        "    temp_mat=[]\n",
        "    for i in range(0,lbrmatriks(matA)):\n",
        "        for j in range(0,pjgmatriks(matA)):\n",
        "            temp_row.append(matA[i][j]+matB[i][j])\n",
        "        temp_mat.append(temp_row)\n",
        "        tempt_row=[]\n",
        "    return temp_mat\n",
        "\n",
        "matA=[]\n",
        "matB=[]\n",
        "temp_row=[]\n",
        "n=int(input('Masukkan jumlah ordo: '))\n",
        "print ('\\nMatriks A')\n",
        "for i in range(n):\n",
        "    for j in range(n):\n",
        "        print ('Masukkan elemen [',(i+j),',',(j+i),']',)\n",
        "        a=int(input(': '))\n",
        "        temp_row.append(a)\n",
        "    matA.append(temp_row)\n",
        "    temp_row=[]\n",
        "print ('\\nMatriks B')\n",
        "for i in range(n):\n",
        "    for j in range(n):\n",
        "        print ('Masukkan elemen [',(i+j),',',(j+i),']',)\n",
        "        a=int(input(': '))\n",
        "        temp_row.append(a)\n",
        "    matB.append(temp_row)\n",
        "    temp_row=[]\n",
        "   \n",
        "print ('\\nMatriksA :')\n",
        "cetakmatriks(matA)\n",
        "print ('\\nmatriksB:')\n",
        "cetakmatriks(matB)\n",
        "print ('\\nhasil punjumlahan :')\n",
        "hasil=jumlahmatriks(matA,matB)\n",
        "cetakmatriks(hasil)\n",
        "\n"
      ],
      "metadata": {
        "id": "WjZrcDQMepAc"
      },
      "execution_count": null,
      "outputs": []
    },
    {
      "cell_type": "code",
      "source": [
        "import numpy as np \n",
        "n = int(input(\"Masukkan jumlah baris = \"))\n",
        "m = int(input(\"Masukkan jumlah kolom = \"))\n",
        "a = np.zeros((n,m))\n",
        "\n",
        "for i in range (0,n):\n",
        "  for j in range (0,m):\n",
        "    b = float(input(\"Masukkan bilangan pada baris ke %d kolom ke %d = \" %(i+1,j+1)))\n",
        "    a[i][j] = b\n",
        "\n",
        "print (a)"
      ],
      "metadata": {
        "colab": {
          "base_uri": "https://localhost:8080/"
        },
        "id": "KiqHCy_nhuI3",
        "outputId": "393af331-f069-4062-bfc6-6a6ad5fa68bf"
      },
      "execution_count": null,
      "outputs": [
        {
          "output_type": "stream",
          "name": "stdout",
          "text": [
            "Masukkan jumlah baris = 2\n",
            "Masukkan jumlah kolom = 3\n",
            "Masukkan bilangan pada baris ke 1 kolom ke 1 = 1\n",
            "Masukkan bilangan pada baris ke 1 kolom ke 2 = 2\n",
            "Masukkan bilangan pada baris ke 1 kolom ke 3 = 3\n",
            "Masukkan bilangan pada baris ke 2 kolom ke 1 = 9\n",
            "Masukkan bilangan pada baris ke 2 kolom ke 2 = 8\n",
            "Masukkan bilangan pada baris ke 2 kolom ke 3 = 7\n",
            "[[1. 2. 3.]\n",
            " [9. 8. 7.]]\n"
          ]
        }
      ]
    }
  ]
}