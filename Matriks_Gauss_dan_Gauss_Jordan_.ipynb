{
  "nbformat": 4,
  "nbformat_minor": 0,
  "metadata": {
    "colab": {
      "name": "Matriks Gauss dan Gauss-Jordan .ipynb",
      "provenance": [],
      "authorship_tag": "ABX9TyM4FaZNzNmITpAIOpwaMDJl",
      "include_colab_link": true
    },
    "kernelspec": {
      "name": "python3",
      "display_name": "Python 3"
    },
    "language_info": {
      "name": "python"
    }
  },
  "cells": [
    {
      "cell_type": "markdown",
      "metadata": {
        "id": "view-in-github",
        "colab_type": "text"
      },
      "source": [
        "<a href=\"https://colab.research.google.com/github/Frhan21/Praktikum-Fisika-Komputasi/blob/main/Matriks_Gauss_dan_Gauss_Jordan_.ipynb\" target=\"_parent\"><img src=\"https://colab.research.google.com/assets/colab-badge.svg\" alt=\"Open In Colab\"/></a>"
      ]
    },
    {
      "cell_type": "code",
      "execution_count": null,
      "metadata": {
        "id": "mUF48qQikVRR",
        "colab": {
          "base_uri": "https://localhost:8080/"
        },
        "outputId": "d80bccac-b5df-48ef-a611-a5f204ced10f"
      },
      "outputs": [
        {
          "output_type": "stream",
          "name": "stdout",
          "text": [
            "Masukkan jumlah baris = 3\n",
            "Masukkan jumlah kolom = 2\n",
            "Masukkan bilangan pada baris ke 1 kolom ke 1 = 1\n",
            "Masukkan bilangan pada baris ke 1 kolom ke 2 = 3\n",
            "Masukkan bilangan pada baris ke 2 kolom ke 1 = 1\n",
            "Masukkan bilangan pada baris ke 2 kolom ke 2 = 4\n",
            "Masukkan bilangan pada baris ke 3 kolom ke 1 = 1\n",
            "Masukkan bilangan pada baris ke 3 kolom ke 2 = 0\n",
            "[[1. 3.]\n",
            " [1. 4.]\n",
            " [1. 0.]]\n"
          ]
        }
      ],
      "source": [
        "#Cara Membuat Array dengan Masukkan / Inputan\n",
        "import numpy as np \n",
        "n = int(input(\"Masukkan jumlah baris = \"))\n",
        "m = int(input(\"Masukkan jumlah kolom = \"))\n",
        "a = np.zeros((n,m))\n",
        "\n",
        "for i in range (0,n):\n",
        "  for j in range (0,m):\n",
        "    b = float(input(\"Masukkan bilangan pada baris ke {} kolom ke {} = \".format(i+1,j+1)))\n",
        "    a[i][j] = b\n",
        "\n",
        "print (a)"
      ]
    },
    {
      "cell_type": "code",
      "source": [
        "import numpy as np \n",
        "a = np.array([[2,2,1,13],\n",
        "              [0,3,5,17],\n",
        "              [0,0,6,6]],float)\n",
        "\n",
        "N = len(a)\n",
        "print('===Matriks Awal===')\n",
        "print (a)\n",
        "\n",
        "#Metode Back Subtitution \n",
        "x =np.zeros((N,1))\n",
        "x[N-1][0] = a[N-1][N]/a[N-1][N-1]\n",
        "\n",
        "for i in  range (N-2,-1,-1):\n",
        "  jum  = 0 \n",
        "  for j in range (i+1,N):\n",
        "    jum += a[i][j]*x[j][0]\n",
        "    x[i][0] = (a[i][N]-jum)/a[i][i]\n",
        "\n",
        "print()\n",
        "print('===Nilai x1, x2, x3===')\n",
        "print(x)"
      ],
      "metadata": {
        "colab": {
          "base_uri": "https://localhost:8080/"
        },
        "id": "hkh9IpOMqzv4",
        "outputId": "74a7df61-9206-4477-f3d2-e71576f87c37"
      },
      "execution_count": null,
      "outputs": [
        {
          "output_type": "stream",
          "name": "stdout",
          "text": [
            "===Matriks Awal===\n",
            "[[ 2.  2.  1. 13.]\n",
            " [ 0.  3.  5. 17.]\n",
            " [ 0.  0.  6.  6.]]\n",
            "\n",
            "===Nilai x1, x2, x3===\n",
            "[[2.]\n",
            " [4.]\n",
            " [1.]]\n"
          ]
        }
      ]
    },
    {
      "cell_type": "code",
      "source": [
        "import numpy as np \n",
        "\n",
        "#Soal No 2 \n",
        "#Mencari segitiga atas dari Matriks \n",
        "\n",
        "a = np.array([[11,-13,-8,-20],\n",
        "             [-9,8,10,-5],\n",
        "             [-10,3,-1,0]],float)\n",
        "\n",
        "n = len(a)\n",
        "print(n)\n",
        "#Metode Eliminasi Gauss \n",
        "for i in range (0,n-1):\n",
        "  pivot = a[i][i]\n",
        "  for j in range (i+1,n):\n",
        "    c = a[j][i]/pivot\n",
        "    for k in range (i,n+1):\n",
        "      a[j][k] = a[j][k] - c*a[i][k]\n",
        "\n",
        "print(a)"
      ],
      "metadata": {
        "colab": {
          "base_uri": "https://localhost:8080/"
        },
        "id": "awbBoS-lvTBB",
        "outputId": "5aab5144-cc9c-424d-a434-32d98d4c3b97"
      },
      "execution_count": null,
      "outputs": [
        {
          "output_type": "stream",
          "name": "stdout",
          "text": [
            "3\n",
            "[[ 11.         -13.          -8.         -20.        ]\n",
            " [  0.          -2.63636364   3.45454545 -21.36363636]\n",
            " [  0.           0.         -19.82758621  53.27586207]]\n"
          ]
        }
      ]
    },
    {
      "cell_type": "code",
      "source": [
        "import numpy as np\n",
        "#Soal No 3\n",
        "#Metode Eliminasi Gauss cek Pivot \n",
        "\n",
        "A = np.array([[0,2,3,18],\n",
        "              [8,-4,9,26],\n",
        "              [6,1,7,44]],float)\n",
        "\n",
        "print (A)\n",
        "n = len(A)\n",
        "print()\n",
        "y = np.zeros((n,n+1))\n",
        "\n",
        "for i in range (0,n-1):\n",
        "  if A[i][i]== 0 :\n",
        "    for j in range (i+1,n):\n",
        "      if A[j][i] > 0:\n",
        "        for k in range (0,n+1):\n",
        "          y[i][j] = A[i][k]\n",
        "          A[i][k] = A[j][k]\n",
        "          A[j][k] = y[i][j]\n",
        "      else : break\n",
        "  \n",
        "    \n",
        "  for i in range (0,n-1):#Masuk Metode Eliminasi Gausss\n",
        "    pivot = A[i][i]\n",
        "    for j in range (i+1,n):\n",
        "      c = A[j][i]/pivot\n",
        "      for k in range (i,n+1):\n",
        "        A[j][k] = A[j][k] - c*A[i][k]\n",
        " \n",
        "print()\n",
        "print(A)\n",
        "print()\n",
        "x =np.zeros((n,1))       #Masuk Ke Back Subtitution\n",
        "x[n-1][0] = A[n-1][n]/A[n-1][n-1]\n",
        "\n",
        "for i in  range (n-2,-1,-1):\n",
        "  jum  = 0 \n",
        "  for j in range (i+1,n):\n",
        "    jum += A[i][j]*x[j][0]\n",
        "    x[i][0] = (A[i][n]-jum)/A[i][i]\n",
        "print()\n",
        "print(x)"
      ],
      "metadata": {
        "colab": {
          "base_uri": "https://localhost:8080/"
        },
        "id": "W7pEwNFixWWE",
        "outputId": "74f0b683-1360-4a0f-acdf-9c53e4a35f90"
      },
      "execution_count": null,
      "outputs": [
        {
          "output_type": "stream",
          "name": "stdout",
          "text": [
            "[[ 0.  2.  3. 18.]\n",
            " [ 8. -4.  9. 26.]\n",
            " [ 6.  1.  7. 44.]]\n",
            "\n",
            "\n",
            "[[ 6.          1.          7.         44.        ]\n",
            " [ 0.          2.          3.         18.        ]\n",
            " [ 0.          0.          7.66666667 15.33333333]]\n",
            "\n",
            "\n",
            "[[4.]\n",
            " [6.]\n",
            " [2.]]\n"
          ]
        }
      ]
    },
    {
      "cell_type": "code",
      "source": [
        "#Soal No 4 \n",
        "import numpy as np\n",
        "\n",
        "B = np.array([[4,3,2,960],\n",
        "              [1,3,1,510],\n",
        "              [2,1,3,610]],float)\n",
        "n = len(B)\n",
        "\n",
        "for i in range (0,n):\n",
        "  pivot = B[i][i]\n",
        "  for j in range(0,n):\n",
        "    if j!=i :\n",
        "      c = B[j][i]/pivot\n",
        "      for k in range (i,n+1):\n",
        "        B[j][k] = B[j][k] - c*B[i][k]\n",
        "        \n",
        "        # print (B,'\\n')\n",
        "print (B)\n",
        "print()\n",
        "x = np.zeros((n,1))\n",
        "\n",
        "print('===Nilai x1, x2, x3====')\n",
        "for i in range (n):\n",
        "  x[i] = B[i][n]/B[i][i]\n",
        "  print (\"x%d = %0.2f\"%(i+1,x[i]))\n",
        "\n"
      ],
      "metadata": {
        "colab": {
          "base_uri": "https://localhost:8080/"
        },
        "id": "tIRQZbYE2dbw",
        "outputId": "971f8d33-9246-4302-f3ce-15d18bca7e5b"
      },
      "execution_count": null,
      "outputs": [
        {
          "output_type": "stream",
          "name": "stdout",
          "text": [
            "[[  4.           0.           0.         480.        ]\n",
            " [  0.           2.25         0.         225.        ]\n",
            " [  0.           0.           2.11111111 190.        ]]\n",
            "\n",
            "===Nilai x1, x2, x3====\n",
            "x1 = 120.00\n",
            "x2 = 100.00\n",
            "x3 = 90.00\n"
          ]
        }
      ]
    }
  ]
}