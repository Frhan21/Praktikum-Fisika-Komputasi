{
  "cells": [
    {
      "cell_type": "markdown",
      "metadata": {
        "id": "view-in-github",
        "colab_type": "text"
      },
      "source": [
        "<a href=\"https://colab.research.google.com/github/Frhan21/Praktikum-Fisika-Komputasi/blob/main/Metode_Numerik_Turunan_.ipynb\" target=\"_parent\"><img src=\"https://colab.research.google.com/assets/colab-badge.svg\" alt=\"Open In Colab\"/></a>"
      ]
    },
    {
      "cell_type": "code",
      "execution_count": null,
      "metadata": {
        "colab": {
          "base_uri": "https://localhost:8080/"
        },
        "id": "EQ1EHNjqrozw",
        "outputId": "edbb5803-80ff-41b6-ecbc-a3e7a1ba8110"
      },
      "outputs": [
        {
          "output_type": "stream",
          "name": "stdout",
          "text": [
            "Tugas Praktikum Modul III NO 1\n",
            "\n",
            "++Data Perhitungan Waktu dan ketinggian Jatuh sebuah benda++\n",
            "-----------------------------------------------------------\n",
            "\n",
            "=====================================\n",
            "    t      |    h(t)      |   h'(t) \n",
            "-------------------------------------\n",
            "    0           1000          -5.0\n",
            "    1            995         -10.0\n",
            "    2            980         -19.5\n",
            "    3            956         -29.0\n",
            "    4            922         -39.5\n",
            "    5            877         -81.0\n",
            "    6            760        -183.5\n",
            "    7            510        -250.0\n",
            "=====================================\n"
          ]
        }
      ],
      "source": [
        "print(\"\"\"Tugas Praktikum Modul III NO 1\"\"\")\n",
        "\n",
        "print()\n",
        "\n",
        "t = [0,1,2,3,4,5,6,7]\n",
        "h = [1000,995,980,956,922,877,760,510]\n",
        "n = len(t)\n",
        "a = 1 \n",
        "\n",
        "\n",
        "print(\"++Data Perhitungan Waktu dan ketinggian Jatuh sebuah benda++\")\n",
        "print ('-----------------------------------------------------------')\n",
        "print()\n",
        "print (\"=====================================\")\n",
        "print (\"    t      |    h(t)      |   h'(t) \")\n",
        "print ('-------------------------------------')\n",
        "#Metode Forward Diff (Beda Maju)\n",
        "df1 = (h[1]-h[0]/a)\n",
        "# print(t[0],h[0],df1)\n",
        "print (f'{t[0]:5} {h[0]:14} {df1:13}')\n",
        "\n",
        "#Metode Center Diff (Beda Tengah)\n",
        "\n",
        "for i in range (1,n-1):\n",
        "  df2 = (h[i+1]-h[i-1])/2*a\n",
        "  # print (i,t[i],h[i],df2)\n",
        "  print (f'{t[i]:5} {h[i]:14} {df2:13}')\n",
        "\n",
        "#Metode Back Diff (Beda Mundur)\n",
        "\n",
        "df3 = (h[7]-h[6])/a\n",
        "# print(\"7\",t[7],h[7],df3)\n",
        "print (f'{t[7]:5} {h[7]:14} {df3:13}')\n",
        "print (\"=====================================\")"
      ]
    },
    {
      "cell_type": "code",
      "execution_count": null,
      "metadata": {
        "colab": {
          "base_uri": "https://localhost:8080/"
        },
        "id": "E-Gc5dDVj5B3",
        "outputId": "77fc8f75-c3e4-4b11-99e9-51e4b591020e"
      },
      "outputs": [
        {
          "output_type": "stream",
          "name": "stdout",
          "text": [
            "Tugas Praktikum Modul III NO 2\n",
            "\n",
            "    0     0.50    0.010000 \n",
            "   15     0.65    0.007667 \n",
            "   30     0.73    0.007667 \n",
            "   45     0.88    0.010000 \n",
            "   60     1.03    0.008667 \n",
            "   75     1.14    0.009000 \n",
            "   90     1.30    0.010667 \n"
          ]
        }
      ],
      "source": [
        "print(\"\"\"Tugas Praktikum Modul III NO 2\"\"\")\n",
        "\n",
        "print()\n",
        "\n",
        "t = [0,15,30,45,60,75,90]\n",
        "V = [0.5,0.65,0.73,0.88,1.03,1.14,1.30]\n",
        "N = len(t)\n",
        "h = (t[6]-t[0])/(N-1)\n",
        "# #Metode FD (Beda Maju)\n",
        "df4 = (V[1]-V[0])/h\n",
        "# print (t[0],V[0],df4)\n",
        "print (\"%5d    %5.2f    %5.6f \"%(t[0],V[0],df4))\n",
        "\n",
        "#Metode CD (Beda Tengah)\n",
        "for i in range (1,N-1):\n",
        "  df5 = (V[i+1]-V[i-1])/(2*h)\n",
        "  print (\"%5d    %5.2f    %5.6f \"%(t[i],V[i],df5))\n",
        "\n",
        "#Metode BD (Beda Mundur)\n",
        "\n",
        "df6 = (V[N-1]-V[N-2])/h\n",
        "# print(t[N-1],V[N-1],df3)\n",
        "print (\"%5d    %5.2f    %5.6f \"%(t[6],V[6],df6))"
      ]
    },
    {
      "cell_type": "code",
      "execution_count": null,
      "metadata": {
        "colab": {
          "base_uri": "https://localhost:8080/"
        },
        "id": "SYgIjIp3Gvut",
        "outputId": "428e2e22-acb1-45b2-f2d2-4d79d12ebc87"
      },
      "outputs": [
        {
          "output_type": "stream",
          "name": "stdout",
          "text": [
            "Tugas Praktikum Modul III NO 3\n",
            "\n",
            "Masukkan nilai batas bawah fungsi    = 0\n",
            "Masukkan nilai batas atas  fungsi    = 5\n",
            "Masukkan jumlah data yang diinginkan  = 6\n",
            " 0.00     0.00    8.9532 \n",
            " 1.00     8.95    8.2025 \n",
            " 2.00    16.40    6.8270 \n",
            " 3.00    22.61    5.6822 \n",
            " 5.00    32.07    4.2965 \n",
            "   Waktu(s)  Kecepatan  Percepatan\n",
            "0       0.0   0.000000    8.953182\n",
            "1       1.0   8.953182    8.202490\n",
            "2       2.0  16.404980    6.826992\n",
            "3       3.0  22.607166    5.682155\n",
            "4       5.0  32.065764    4.296474\n"
          ]
        }
      ],
      "source": [
        "print(\"\"\"Tugas Praktikum Modul III NO 3\"\"\")\n",
        "\n",
        "print()\n",
        "\n",
        "import numpy as np \n",
        "import pandas as pd \n",
        "\n",
        "def v(t):\n",
        "  return 53.3904*(1-np.e**(-0.18355359*t))\n",
        "\n",
        "ta = float(input(\"Masukkan nilai batas bawah fungsi    = \"))\n",
        "tb = float(input(\"Masukkan nilai batas atas  fungsi    = \"))\n",
        "N  = int(input(\"Masukkan jumlah data yang diinginkan  = \"))\n",
        "\n",
        "dt = (tb-ta)/(N-1)\n",
        "i = 0\n",
        "t = ta +dt \n",
        "\n",
        "vt = []\n",
        "a  = []\n",
        "ti = []\n",
        "\n",
        "\n",
        "df7 = (v(ta+dt) - v(ta))/dt\n",
        "a.append(df7)\n",
        "vt.append(v(ta))\n",
        "ti.append(ta)\n",
        "\n",
        "\n",
        "\n",
        "for i in range (2,N-1):\n",
        "  df8 = (v(t+dt)-v(t-dt))/(2*dt)\n",
        "  a.append(df8)\n",
        "  vt.append(v(t))\n",
        "  ti.append(t)\n",
        "  \n",
        "  t = t + dt\n",
        "\n",
        "df9 = (v(tb)-v(tb - dt))/dt\n",
        "a.append(df9)\n",
        "vt.append(v(tb))\n",
        "ti.append(tb)\n",
        "\n",
        "\n",
        "\n",
        "data = {'Waktu(s)':ti,'Kecepatan':vt,'Percepatan':a}\n",
        "df = pd.DataFrame(data)\n",
        "print (df)\n",
        "\n",
        "\n",
        "  \n"
      ]
    },
    {
      "cell_type": "code",
      "execution_count": null,
      "metadata": {
        "colab": {
          "base_uri": "https://localhost:8080/"
        },
        "id": "_piZueGCUaQb",
        "outputId": "6d09e32b-6a01-4ed3-b8f6-2541ff74b6d4"
      },
      "outputs": [
        {
          "output_type": "stream",
          "name": "stdout",
          "text": [
            "Tugas Praktikum Modul III NO 4\n",
            "\n",
            "++Data Perhitungan Waktu dan ketinggian Jatuh sebuah benda++\n",
            "-----------------------------------------------------------\n",
            "\n",
            "================================================\n",
            "    t      |    h(t)      |   h'(t)  |    H(t)  \n",
            "------------------------------------------------\n",
            "    0           1000          -5.0      -10.0\n",
            "    1            995         -10.0      -10.0\n",
            "    2            980         -19.5       -9.0\n",
            "    3            956         -29.0      -10.0\n",
            "    4            922         -39.5      -11.0\n",
            "    5            877         -81.0      -72.0\n",
            "    6            760        -183.5     -133.0\n",
            "    7            510        -250.0     -133.0\n",
            "===============================================\n"
          ]
        }
      ],
      "source": [
        "print(\"\"\"Tugas Praktikum Modul III NO 4\"\"\")\n",
        "\n",
        "print()\n",
        "\n",
        "t = [0,1,2,3,4,5,6,7]\n",
        "h = [1000,995,980,956,922,877,760,510]\n",
        "n = len(t)\n",
        "a = 1\n",
        "\n",
        "print(\"++Data Perhitungan Waktu dan ketinggian Jatuh sebuah benda++\")\n",
        "print ('-----------------------------------------------------------')\n",
        "print()\n",
        "print (\"================================================\")\n",
        "print (\"    t      |    h(t)      |   h'(t)  |    H(t)  \")\n",
        "print ('------------------------------------------------')\n",
        "#Metode Forward Diff (Beda Maju)\n",
        "df1 = ((h[1]-h[0])/a)      #Turunan Pertama\n",
        "# print(t[0],h[0],df1)\n",
        "\n",
        "Df1 = (h[0]-2*h[1]+h[2])/(a**2)\n",
        "print (f'{t[0]:5} {h[0]:14} {df1:13} {Df1:10}')\n",
        "\n",
        "#Metode Center Diff (Beda Tengah)\n",
        "\n",
        "for i in range (1,n-1):\n",
        "  df2 = (h[i+1]-h[i-1])/2*a #Turunan Pertama\n",
        "  # print (i,t[i],h[i],df2)\n",
        "  \n",
        "  Df2 = (h[i-1]-2*h[i]+h[i+1])/(a**2) #Turunan Kedua \n",
        "  print (f'{t[i]:5} {h[i]:14} {df2:13} {Df2:10}')\n",
        "\n",
        "#Metode Back Diff (Beda Mundur)\n",
        "\n",
        "df3 = (h[7]-h[6])/a #Turunan Pertama \n",
        "# print(\"7\",t[7],h[7],df3)\n",
        "Df3 = (h[7]-2*h[6]+h[5])/(a**2) #Turunan Kedua\n",
        "print (f'{t[7]:5} {h[7]:14} {df3:13} {Df3:10}')\n",
        "print (\"===============================================\")\n"
      ]
    },
    {
      "cell_type": "code",
      "source": [
        "import csv \n",
        "\n",
        "f = open (\"gaya.csv\",\"w\")\n",
        "\n",
        "\n",
        "\n",
        "f.write(\"\"\"Tugas Praktikum Modul III NO 5\"\"\")\n",
        "\n",
        "f.write(\"\\n\")\n",
        "\n",
        "import numpy as np \n",
        "\n",
        "def v(t):\n",
        "  return 53.3904*(1-np.e**(-0.18355359*t))\n",
        "\n",
        "ta = float(input(\"Masukkan nilai batas bawah fungsi    = \"))\n",
        "tb = float(input(\"Masukkan nilai batas atas  fungsi    = \"))\n",
        "N  = int(input(\"Masukkan jumlah data yang diinginkan  = \"))\n",
        "\n",
        "dt = (tb-ta)/(N-1)\n",
        "i = 0\n",
        "t = ta +dt \n",
        "\n",
        "df7 = (v(ta+dt) - v(ta))/dt\n",
        "f.write(\"%5.2f    %5.2f    %5.4f \" %(ta, v(ta),df7))\n",
        "\n",
        "for i in range (2,N-1):\n",
        "  df8 = (v(t+dt)-v(t-dt))/(2*dt)\n",
        "  f.write(\"%5.2f    %5.2f    %5.4f \" %(t,v(t),df8))\n",
        "  t += dt\n",
        "\n",
        "df9 = (v(tb)-v(tb - dt))/dt\n",
        "f.write(\"%5.2f    %5.2f    %5.4f \" %(tb,v(tb),df9))\n",
        "\n",
        "f.close()"
      ],
      "metadata": {
        "colab": {
          "base_uri": "https://localhost:8080/"
        },
        "id": "WDaP2EvFl2vu",
        "outputId": "45b7a58a-6647-47f7-fe29-89cbb00feb6d"
      },
      "execution_count": null,
      "outputs": [
        {
          "name": "stdout",
          "output_type": "stream",
          "text": [
            "Masukkan nilai batas bawah fungsi    = 0\n",
            "Masukkan nilai batas atas  fungsi    = 10\n",
            "Masukkan jumlah data yang diinginkan  = 11\n"
          ]
        },
        {
          "output_type": "execute_result",
          "data": {
            "text/plain": [
              "25"
            ]
          },
          "metadata": {},
          "execution_count": 95
        }
      ]
    },
    {
      "cell_type": "code",
      "source": [
        "import csv\n",
        "with open (\"nama_file.csv\") as csv_file :\n",
        "  csv.reader = csv.reader(csv_file)\n",
        "  print (csv.reader)\n",
        "  for i in row :\n",
        "    print (row)\n",
        "\n",
        "\n",
        "df1 = float(data[1]) +"
      ],
      "metadata": {
        "id": "_iCt5ZDV0T8J"
      },
      "execution_count": null,
      "outputs": []
    },
    {
      "cell_type": "code",
      "source": [
        "import sympy as sym \n",
        "import math\n",
        "\n",
        "t = sym.Symbol('t')\n",
        "\n",
        "fx = 10*(math.e**(-t))*sym.sin (2*sym.pi*t) + 20\n",
        "a = sym.diff(fx)\n",
        "print('Persamaan pertama adalah {} \\n'.format(fx))\n",
        "print('Turunan pertama nya adalah {}'.format(a))\n",
        "\n",
        "\n",
        "print(sym.diff (sym.sinh(t)))"
      ],
      "metadata": {
        "colab": {
          "base_uri": "https://localhost:8080/"
        },
        "id": "2PdI5cE6RMUj",
        "outputId": "452c1c99-6b51-4705-ea44-7a3073084e93"
      },
      "execution_count": null,
      "outputs": [
        {
          "output_type": "stream",
          "name": "stdout",
          "text": [
            "Persamaan pertama adalah 20 + 10*2.71828182845905**(-t)*sin(2*pi*t) \n",
            "\n",
            "Turunan pertama nya adalah -10.0*2.71828182845905**(-t)*sin(2*pi*t) + 20*2.71828182845905**(-t)*pi*cos(2*pi*t)\n",
            "cosh(t)\n"
          ]
        }
      ]
    }
  ],
  "metadata": {
    "colab": {
      "collapsed_sections": [],
      "name": "Metode Numerik Turunan .ipynb",
      "provenance": [],
      "authorship_tag": "ABX9TyMBms5prv9FGTDbRqpr74jV",
      "include_colab_link": true
    },
    "kernelspec": {
      "display_name": "Python 3",
      "name": "python3"
    },
    "language_info": {
      "name": "python"
    }
  },
  "nbformat": 4,
  "nbformat_minor": 0
}