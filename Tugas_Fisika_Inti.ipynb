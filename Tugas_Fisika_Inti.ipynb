{
  "nbformat": 4,
  "nbformat_minor": 0,
  "metadata": {
    "colab": {
      "provenance": [],
      "authorship_tag": "ABX9TyNs2dLA/Y0ayl+HghXR18L7",
      "include_colab_link": true
    },
    "kernelspec": {
      "name": "python3",
      "display_name": "Python 3"
    },
    "language_info": {
      "name": "python"
    }
  },
  "cells": [
    {
      "cell_type": "markdown",
      "metadata": {
        "id": "view-in-github",
        "colab_type": "text"
      },
      "source": [
        "<a href=\"https://colab.research.google.com/github/Frhan21/Praktikum-Fisika-Komputasi/blob/main/Tugas_Fisika_Inti.ipynb\" target=\"_parent\"><img src=\"https://colab.research.google.com/assets/colab-badge.svg\" alt=\"Open In Colab\"/></a>"
      ]
    },
    {
      "cell_type": "code",
      "execution_count": null,
      "metadata": {
        "id": "lQyyxf8IOi4c",
        "colab": {
          "base_uri": "https://localhost:8080/"
        },
        "outputId": "b4b49889-85ef-4170-daad-b258e36af6ca"
      },
      "outputs": [
        {
          "output_type": "stream",
          "name": "stdout",
          "text": [
            "\n",
            "Dengan Massa Proton = 1.007276 u dan Massa Neutron 1.008665 u, \n",
            "Nilai dari Defek Massa Unsur yang dicari adalah sebagai berikut: \n",
            "\n",
            "  nama Unsur  Nomor Massa  Proton  Neutron  Massa inti  Defek Massa\n",
            "1         He            4       2        2    4.002603     0.029279\n",
            "2          U          235      92      143  235.043924     1.864563\n",
            "3          S           32      16       16   31.973907     0.281149\n",
            "4          F           20       9       11   19.999981     0.160818\n",
            "5          U          238      92      146  238.050785     1.883697\n"
          ]
        }
      ],
      "source": [
        "import pandas as pd \n",
        "import numpy as np \n",
        "\n",
        "mp = 1.007276\n",
        "mn = 1.008665\n",
        "\n",
        "# Tentukan nilai defek massa \n",
        "A = np.array([4,235,32,20,238])\n",
        "Z = np.array([2,92,16,9,92])\n",
        "mInti = np.array([4.002603,235.043924,31.973907,19.999981,238.050785])\n",
        "for i in range (len(A)):\n",
        "    n = A - Z \n",
        "    dM= ((Z*mp)+(n*mn))-mInti \n",
        "namaUnsur = ['He','U','S','F','U']\n",
        "data = {'nama Unsur':namaUnsur,\n",
        "        'Nomor Massa':A,\n",
        "        'Proton':Z,\n",
        "        'Neutron':n,\n",
        "        'Massa inti':mInti,\n",
        "        'Defek Massa':dM   \n",
        "}\n",
        "no = []\n",
        "for i in range (1,len(A)+1):\n",
        "  no.append(i)\n",
        "\n",
        "print(f'''\n",
        "Dengan Massa Proton = {mp} u dan Massa Neutron {mn} u, \n",
        "Nilai dari Defek Massa Unsur yang dicari adalah sebagai berikut: ''')\n",
        "print()\n",
        "dd = pd.DataFrame(data,no)\n",
        "print(dd)\n"
      ]
    },
    {
      "cell_type": "code",
      "source": [
        "import numpy as np\n",
        "import pandas as pd\n",
        "\n",
        "\n",
        "def N(A,Z):\n",
        "  return A-Z\n",
        "\n",
        "def BE(n,Z,mInti,mp,mn):\n",
        "  return (((Z*mp)+(n*mn))-mInti)*931.502\n",
        "\n",
        "# Menghitung Energi Ikat Unsur \n",
        "\n",
        "mp = 1.007276\n",
        "mn = 1.008665\n",
        "\n",
        "A = np.array([7,20,56,235])\n",
        "Z = np.array([3,10,26,92])\n",
        "mInti = np.array([7.016003,19.992436,55.934939,235.043924])\n",
        "for i in range (len(A)):\n",
        "  n = N(A,Z) \n",
        "  be= BE(n,Z,mInti,mp,mn)\n",
        "  BN= be/A \n",
        "\n",
        "namaUnsur = ['Li','Ne','Fe','U']\n",
        "data = {'nama Unsur':namaUnsur,\n",
        "        'Nomor Massa':A,\n",
        "        'Proton':Z,\n",
        "        'Neutron':n,\n",
        "        'Massa inti':mInti,\n",
        "        'Energi Ikat Total':be,\n",
        "        'E.Ikat per Nukleon':BN   \n",
        "}\n",
        "no = []\n",
        "for i in range (1,len(A)+1):\n",
        "  no.append(i)\n",
        "\n",
        "\n",
        "dp = pd.DataFrame(data,no)\n",
        "print(dp)\n",
        "dp.head()\n",
        "\n",
        "\n"
      ],
      "metadata": {
        "id": "uwwa08dkTbmG"
      },
      "execution_count": null,
      "outputs": []
    },
    {
      "cell_type": "code",
      "source": [
        "global mn,mp\n",
        "def N(A,Z):\n",
        "  return A-Z\n",
        "\n",
        "def dfk_mass(BE):\n",
        "  return BE/931.502\n",
        "\n",
        "def mInti(mn,mp,Z,neut,defmass):\n",
        "  return -(defmass - (Z*mp + neut*mn))\n",
        "\n",
        "A = float(input('Masukkan Nilai Nomor Massa dari Unsur          = '))\n",
        "Z = float(input('Masukkan Nilai Nomor Atom dari Unsur           = '))\n",
        "BE= float(input('Masukkan Nilai dari Defek Massa yang diketahui = ')) \n",
        "\n",
        "neut = N(A,Z)\n",
        "defmass = dfk_mass(BE)\n",
        "minti = mInti(mn,mp,Z,neut,defmass)\n",
        "\n",
        "print(f'''\n",
        "\\nMaka, hasil yang didapatkan untuk Unsur dengan A = {A}, dan Z = {Z} serta defek massa diketahui = {BE} MeV\n",
        "defek massa = {defmass:.6f} u (dalam satuan amu)\n",
        "massa inti unsur tersebut adalah = {minti:.6f} u\n",
        "''')\n"
      ],
      "metadata": {
        "id": "ZDaC3awRgA0p",
        "colab": {
          "base_uri": "https://localhost:8080/"
        },
        "outputId": "00a04b38-7f3c-4be8-d7bc-69d3f3b2beb2"
      },
      "execution_count": 27,
      "outputs": [
        {
          "output_type": "stream",
          "name": "stdout",
          "text": [
            "Masukkan Nilai Nomor Massa dari Unsur          = 240\n",
            "Masukkan Nilai Nomor Atom dari Unsur           = 94\n",
            "Masukkan Nilai dari Defek Massa yang diketahui = 50.123\n",
            "\n",
            "\n",
            "Maka, hasil yang didapatkan untuk Unsur dengan A = 240.0, dan Z = 94.0 serta defek massa diketahui = 50.123 MeV\n",
            "defek massa = 0.053809 u (dalam satuan amu)\n",
            "massa inti unsur tersebut adalah = 241.895225 u\n",
            "\n"
          ]
        }
      ]
    },
    {
      "cell_type": "code",
      "source": [
        "global mn,mp\n",
        "def N(A,Z):\n",
        "  return A-Z\n",
        "\n",
        "def dfk_mass(Z,neut,mInti,mp,mn):\n",
        "  return ((Z*mp)+(neut*mn)-mInti)*931.502\n",
        "\n",
        "def spare_neut(deffmass1, deffmass2):\n",
        "  return deffmass1 - deffmass2\n",
        "\n",
        "\n",
        "print('Program ini akan menentukan nilai dari Energi Separasi Neutron')\n",
        "\n",
        "A = float(input('Masukkan Nilai Nomor Massa dari Unsur          = '))\n",
        "Z = float(input('Masukkan Nilai Nomor Atom dari Unsur           = '))\n",
        "mInti1 = float(input('Masukkan Nilai dari Massa Inti unsur 1 = '))\n",
        "mInti2 = float(input('Masukkan Nilai dari Massa Inti unsur 2 = '))\n",
        "\n",
        "neut = N(A,Z)\n",
        "BE1 = dfk_mass(Z,neut,mInti1,mp,mn)\n",
        "BE2 = dfk_mass(Z,neut-1,mInti2,mp,mn)\n",
        "SN = spare_neut(BE1 , BE2)\n",
        "\n",
        "print(f'''\n",
        "\\nMaka, hasil yang didapatkan untuk Unsur dengan Nomor Massa {A}, dan proton = {Z} \n",
        "Energi Separasi Neutron yang didapatkan adalah {SN:.6f} MeV\n",
        "''')\n"
      ],
      "metadata": {
        "colab": {
          "base_uri": "https://localhost:8080/"
        },
        "id": "82v3huV-lXH0",
        "outputId": "f509ed8e-ea34-46b6-838f-f1d1f546a745"
      },
      "execution_count": 33,
      "outputs": [
        {
          "output_type": "stream",
          "name": "stdout",
          "text": [
            "Program ini akan menentukan nilai dari Energi Separasi Neutron dan Proton\n",
            "Masukkan Nilai Nomor Massa dari Unsur          = 91\n",
            "Masukkan Nilai Nomor Atom dari Unsur           = 40\n",
            "Masukkan Nilai dari Massa Inti unsur 1 = 90.905644\n",
            "Masukkan Nilai dari Massa Inti unsur 2 = 89.904703\n",
            "\n",
            "\n",
            "Maka, hasil yang didapatkan untuk Unsur dengan Nomor Massa 91.0, dan proton = 40.0 \n",
            "Energi Separasi Neutron yang didapatkan adalah 7.194921 MeV\n",
            "\n"
          ]
        }
      ]
    },
    {
      "cell_type": "code",
      "source": [
        "global mn,mp\n",
        "def N(A,Z):\n",
        "  return A-Z\n",
        "\n",
        "def dfk_mass(Z,neut,mInti,mp,mn):\n",
        "  return ((Z*mp)+(neut*mn)-mInti)*931.502\n",
        "\n",
        "def spare_prot(deffmass1, deffmass2):\n",
        "  return deffmass1 - deffmass2\n",
        "\n",
        "\n",
        "print('Program ini akan menentukan nilai dari Energi Separasi Proton')\n",
        "\n",
        "A = float(input('Masukkan Nilai Nomor Massa dari Unsur          = '))\n",
        "Z = float(input('Masukkan Nilai Nomor Atom dari Unsur           = '))\n",
        "mInti1 = float(input('Masukkan Nilai dari Massa Inti unsur 1 = '))\n",
        "mInti2 = float(input('Masukkan Nilai dari Massa Inti unsur 2 = '))\n",
        "\n",
        "neut = N(A,Z)\n",
        "BE1 = dfk_mass(Z,neut,mInti1,mp,mn)\n",
        "BE2 = dfk_mass(Z-1,neut,mInti2,mp,mn)\n",
        "SP = spare_prot(BE1 , BE2)\n",
        "\n",
        "print(f'''\n",
        "\\nMaka, hasil yang didapatkan untuk Unsur dengan Nomor Massa {A}, dan proton = {Z} \n",
        "SP = B[{A}(X){neut}]-B[{A-1}(X){neut}]\n",
        "   = {BE1:.6f} - {BE2:.6f}\n",
        "   = {SP:.6f}\n",
        "Energi Separasi Proton yang didapatkan adalah {SP:.6f} MeV\n",
        "''')"
      ],
      "metadata": {
        "colab": {
          "base_uri": "https://localhost:8080/"
        },
        "id": "axGA0HK7odP1",
        "outputId": "84d15e9d-a830-49ca-c9fe-cf670655401a"
      },
      "execution_count": 37,
      "outputs": [
        {
          "output_type": "stream",
          "name": "stdout",
          "text": [
            "Program ini akan menentukan nilai dari Energi Separasi Proton\n",
            "Masukkan Nilai Nomor Massa dari Unsur          = 197\n",
            "Masukkan Nilai Nomor Atom dari Unsur           = 79\n",
            "Masukkan Nilai dari Massa Inti unsur 1 = 196.966543\n",
            "Masukkan Nilai dari Massa Inti unsur 2 = 195.964926\n",
            "\n",
            "\n",
            "Maka, hasil yang didapatkan untuk Unsur dengan Nomor Massa 197.0, dan proton = 79.0 \n",
            "SP = B[197.0(X)118.0]-B[196.0(X)118.0]\n",
            "   = 1519.029188 - 1513.757818\n",
            "   = 5.271370\n",
            "Energi Separasi Proton yang didapatkan adalah 5.271370 MeV\n",
            "\n"
          ]
        }
      ]
    }
  ]
}