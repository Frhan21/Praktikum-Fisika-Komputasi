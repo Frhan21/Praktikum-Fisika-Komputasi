{
  "nbformat": 4,
  "nbformat_minor": 0,
  "metadata": {
    "colab": {
      "name": "Persamaan Diferensial Biasa.ipynb",
      "provenance": [],
      "collapsed_sections": [],
      "authorship_tag": "ABX9TyPi5i1t1VNdw1qUL3KSi+jY",
      "include_colab_link": true
    },
    "kernelspec": {
      "name": "python3",
      "display_name": "Python 3"
    },
    "language_info": {
      "name": "python"
    }
  },
  "cells": [
    {
      "cell_type": "markdown",
      "metadata": {
        "id": "view-in-github",
        "colab_type": "text"
      },
      "source": [
        "<a href=\"https://colab.research.google.com/github/Frhan21/Praktikum-Fisika-Komputasi/blob/main/Persamaan_Diferensial_Biasa.ipynb\" target=\"_parent\"><img src=\"https://colab.research.google.com/assets/colab-badge.svg\" alt=\"Open In Colab\"/></a>"
      ]
    },
    {
      "cell_type": "code",
      "execution_count": null,
      "metadata": {
        "colab": {
          "base_uri": "https://localhost:8080/",
          "height": 471
        },
        "id": "o6f3LwFppHi8",
        "outputId": "d7f89786-c1ef-4f39-80fc-ef74c48c3758"
      },
      "outputs": [
        {
          "output_type": "stream",
          "name": "stdout",
          "text": [
            "     Waktu(s)    Suhu(C)\n",
            "0        0.25  89.708333\n",
            "1        0.50  89.417882\n",
            "2        0.75  89.128641\n",
            "3        1.00  88.840605\n",
            "4        1.25  88.553769\n",
            "..        ...        ...\n",
            "295     74.00  40.339917\n",
            "296     74.25  40.255167\n",
            "297     74.50  40.170771\n",
            "298     74.75  40.086726\n",
            "299     75.00  40.003031\n",
            "\n",
            "[300 rows x 2 columns]\n",
            "\n"
          ]
        },
        {
          "output_type": "display_data",
          "data": {
            "text/plain": [
              "<Figure size 432x288 with 1 Axes>"
            ],
            "image/png": "[encoded data removed]"
          },
          "metadata": {
            "needs_background": "light"
          }
        }
      ],
      "source": [
        "#Soal No 1 \n",
        "#Kecepatan Pendinginan Sebuah Logam yang dipanaskan \n",
        "\n",
        "import pandas as pd\n",
        "import matplotlib.pyplot as plt \n",
        "\n",
        "def f(T):\n",
        "  return -(1/60)*(T-20)\n",
        "\n",
        "T0 = 90\n",
        "Tf = 40\n",
        "\n",
        "Tn = 0 \n",
        "\n",
        "t0 = 0 \n",
        "tf = 75\n",
        "dt = 0.25\n",
        "h=dt\n",
        "n = round((tf-t0)/h)\n",
        "# print(n)\n",
        "\n",
        "#Data Tabel \n",
        "Ti = []\n",
        "ti = []\n",
        "no = []\n",
        "\n",
        "while T0 > Tf:\n",
        "#for i in range (n):\n",
        "\n",
        "  Tn = T0 + (h*f(T0))\n",
        "  Ti.append(Tn)\n",
        "\n",
        "  t0 += dt\n",
        "  t = t0\n",
        "  ti.append(t)\n",
        "  # print(t,Tn)\n",
        "  T0 = Tn \n",
        "\n",
        "Ti.pop(n)\n",
        "ti.pop(n)\n",
        "\n",
        "for i in range (1,n+1):\n",
        "  no.append(i)\n",
        "\n",
        "data = {'Waktu(s)':ti,'Suhu(C)':Ti}\n",
        "df = pd.DataFrame(data)\n",
        "print(df)\n",
        "\n",
        "print()\n",
        "\n",
        "plt.plot(ti,Ti)\n",
        "plt.xlabel('Waktu(s)')\n",
        "plt.ylabel('Suhu (C)')\n",
        "plt.grid ()\n",
        "plt.show()\n",
        "\n",
        "# df.head()"
      ]
    },
    {
      "cell_type": "code",
      "source": [
        "#Soal No 2 \n",
        "#Tegangan pada Rangkaian RL \n",
        "#Metode Modified Euler \n",
        "\n",
        "\n",
        "import pandas as pd \n",
        "import matplotlib.pyplot as plt \n",
        "\n",
        "\n",
        "def f(x):\n",
        "  return -(R*x)/L\n",
        "\n",
        "L = 1\n",
        "R = 0.5\n",
        "\n",
        "y0 = 10 \n",
        "t0 = 0\n",
        "tf = 10 \n",
        "dt = 1\n",
        "h = dt \n",
        "n = round((tf-t0)/dt)\n",
        "\n",
        "#Data Buat Tabel \n",
        "yi = []\n",
        "ti = []\n",
        "for i in range (t0,tf,dt):\n",
        "  xt = t0 + (h/2)\n",
        "  yt = y0 + h/2*(f(y0))\n",
        "\n",
        "  yn = yt + h*(f(yt))\n",
        "  yi.append(yn)\n",
        "  xn = t0 + h\n",
        "  ti.append(xn)\n",
        "  y0 = yn\n",
        "  t0 = xn \n",
        "  \n",
        "  # print(xt,yn)\n",
        "\n",
        "no = []\n",
        "for i in range (1,n+1):\n",
        "  no.append(i)\n",
        "\n",
        "data = {'waktu':ti, 'Arus':yi}\n",
        "df = pd.DataFrame(data,index=no)\n",
        "print(df)\n",
        "\n",
        "\n",
        "\n",
        "\n",
        "\n",
        "\n",
        "\n",
        "\n"
      ],
      "metadata": {
        "id": "A6JqG1105BKD",
        "colab": {
          "base_uri": "https://localhost:8080/"
        },
        "outputId": "6f1c3923-e78a-4e7a-82f9-9b2e8b9fb779"
      },
      "execution_count": null,
      "outputs": [
        {
          "output_type": "stream",
          "name": "stdout",
          "text": [
            "    waktu      Arus\n",
            "1       1  3.750000\n",
            "2       2  1.406250\n",
            "3       3  0.527344\n",
            "4       4  0.197754\n",
            "5       5  0.074158\n",
            "6       6  0.027809\n",
            "7       7  0.010428\n",
            "8       8  0.003911\n",
            "9       9  0.001466\n",
            "10     10  0.000550\n"
          ]
        }
      ]
    },
    {
      "cell_type": "code",
      "source": [
        "#Metode Modified Euler \n",
        "\n",
        "def f(x,y): \n",
        "  return (x-y)/2\n",
        "\n",
        "x0 = 0 \n",
        "y0 = 4 \n",
        "h = 0.1\n",
        "\n",
        "n = 2 \n",
        "\n",
        "\n",
        "for i in range (n):\n",
        "  xt = x0 + (h/2)\n",
        "  yt = y0 + ((0.5*h)*f(x0,y0))\n",
        "  yn = yt + h*f(xt,yt)\n",
        "  xn = x0 + h\n",
        "  # print(xt,yt)\n",
        "  print(xn,yn)\n",
        "  x0 = xn \n",
        "  y0 = yn \n",
        "\n"
      ],
      "metadata": {
        "colab": {
          "base_uri": "https://localhost:8080/"
        },
        "id": "jZIt2Pgl7B-k",
        "outputId": "cfa6e8f0-569a-4935-87e4-338370c0470e"
      },
      "execution_count": null,
      "outputs": [
        {
          "output_type": "stream",
          "name": "stdout",
          "text": [
            "0.1 3.7075\n",
            "0.2 3.443946875\n"
          ]
        }
      ]
    },
    {
      "cell_type": "code",
      "source": [
        "#Soal No 3 \n",
        "#Ketinggian dan Kecepatan Penerjun \n",
        "\n",
        "import matplotlib.pyplot as plt \n",
        "import pandas as pd \n",
        "\n",
        "\n",
        "def f(v):\n",
        "  return v\n",
        "\n",
        "def a(v): \n",
        "  return (c/m)*v - g\n",
        "\n",
        "c = 12.5\n",
        "m = 70 \n",
        "g = 9.81\n",
        "\n",
        "y0 = 500 \n",
        "v0 = 0 \n",
        "\n",
        "t0 = 0 \n",
        "tf = 20 \n",
        "dt = 2 \n",
        "n = round((tf-t0)/dt)\n",
        "\n",
        "\n",
        "\n",
        "#Data untuk Tabel \n",
        "y = []\n",
        "v = []\n",
        "t = []\n",
        "\n",
        "for i in range (t0,tf,dt):\n",
        "  yt = y0 + dt*(f(v0))\n",
        "  y.append(yt)\n",
        "\n",
        "  vt = v0 + dt*(a(v0))\n",
        "  v.append(vt)\n",
        "  \n",
        "  y0 = yt\n",
        "  v0 = vt\n",
        "\n",
        "  ti = i + dt\n",
        "  t.append(ti)\n",
        "\n",
        "  # print(t,yt,vt)\n",
        "  \n",
        "no = []\n",
        "for i in range (1,n+1):\n",
        "  no.append(i)\n",
        "\n",
        "data = {'Waktu(s)':t,'Ketinggian(m)':y,'Kecepatan(m/s)':v}\n",
        "df = pd.DataFrame(data,index=no)\n",
        "print(df)\n"
      ],
      "metadata": {
        "colab": {
          "base_uri": "https://localhost:8080/"
        },
        "id": "813VKI9EEDHg",
        "outputId": "bad55fc2-21d8-4608-9bb2-03b37af95a49"
      },
      "execution_count": null,
      "outputs": [
        {
          "output_type": "stream",
          "name": "stdout",
          "text": [
            "    Waktu(s)  Ketinggian(m)  Kecepatan(m/s)\n",
            "1          2     500.000000      -19.620000\n",
            "2          4     460.760000      -46.247143\n",
            "3          6     368.265714      -82.383980\n",
            "4          8     203.497755     -131.426829\n",
            "5         10     -59.355904     -197.984983\n",
            "6         12    -455.325869     -288.313905\n",
            "7         14   -1031.953680     -410.903157\n",
            "8         16   -1853.759994     -577.274285\n",
            "9         18   -3008.308564     -803.063672\n",
            "10        20   -4614.435908    -1109.492126\n"
          ]
        }
      ]
    },
    {
      "cell_type": "code",
      "source": [
        "#SOal No 4\n",
        "#Mencari Simpangan dan Kecepatan Pegas setiap waktu \n",
        "\n",
        "\n",
        "import numpy as np \n",
        "import matplotlib.pyplot as plt \n",
        "import pandas as pd \n",
        "\n",
        "def f(v):\n",
        "  return v\n",
        "\n",
        "def g(x):\n",
        "  return (-k/m)*x\n",
        "\n",
        "k = 1000\n",
        "m = 10\n",
        "x0 = 1\n",
        "v0 = 2\n",
        "z0 = 0\n",
        "h = 0.2\n",
        "\n",
        "\n",
        "t0 = 0 \n",
        "t = 10 \n",
        "dt = 1\n",
        "\n",
        "n = round((t-t0)/dt)\n",
        "\n",
        "#Data untuk Tabel \n",
        "# k1 = []\n",
        "# k2 = []\n",
        "# k3 = []\n",
        "# k4 = []\n",
        "vt = []\n",
        "xt = []\n",
        "t1 = [] \n",
        "no = []\n",
        "i = 0\n",
        "\n",
        "for t in range (t0,t,dt):\n",
        "  k1 = h*f(z0)\n",
        "  l1 = h*g(x0)\n",
        "\n",
        "  k2 = h*((f(z0+(l1/2))))\n",
        "  l2 = h*(g(x0+(h/2)))\n",
        "\n",
        "  k3 = h*(f(z0+(l2/2)))\n",
        "  l3 = h*(g(x0+(h/2)))\n",
        "\n",
        "  k4 = h*(f(z0+l3))\n",
        "  l4 = h*(g(x0+h))\n",
        "\n",
        "  v = v0 + (1/6*(k1+(2*k2)+(2*k3)+k4))\n",
        "  vt.append(v)\n",
        "  x = x0 + (1/6*(l1+(2*l2)+(2*l3)+l4))\n",
        "  xt.append(x)\n",
        "\n",
        "  v0 = v\n",
        "  x0 = x\n",
        "\n",
        "  # print(x,v)\n",
        "\n",
        "  \n",
        "  t1.append(t)\n",
        "  # print(teta)\n",
        "\n",
        "\n",
        "for i in range (1,n+1):\n",
        "  no.append(i)\n",
        "\n",
        "data = {'t':t1,\n",
        "        'Simpangan':xt,\n",
        "        'Kecepatan':vt}\n",
        "\n",
        "df = pd.DataFrame(data,index=no)\n",
        "print(df,'\\n')\n",
        "\n",
        "# plt.plot(t1,vt,'o-')\n",
        "# plt.title('Metode RungKutta 4th',loc='center',fontsize='20')\n",
        "# plt.grid()\n",
        "# plt.show()"
      ],
      "metadata": {
        "id": "iJVyg52UNCuz",
        "colab": {
          "base_uri": "https://localhost:8080/"
        },
        "outputId": "bbfc985f-af8c-4efa-d959-46e972660792"
      },
      "execution_count": null,
      "outputs": [
        {
          "output_type": "stream",
          "name": "stdout",
          "text": [
            "    t     Simpangan     Kecepatan\n",
            "1   0 -2.100000e+01 -1.333333e-01\n",
            "2   1  3.970000e+02  4.173333e+01\n",
            "3   2 -7.545000e+03 -7.524000e+02\n",
            "4   3  1.433530e+05  1.433747e+04\n",
            "5   4 -2.723709e+06 -2.723687e+05\n",
            "6   5  5.175047e+07  5.175049e+06\n",
            "7   6 -9.832589e+08 -9.832589e+07\n",
            "8   7  1.868192e+10  1.868192e+09\n",
            "9   8 -3.549565e+11 -3.549565e+10\n",
            "10  9  6.744173e+12  6.744173e+11 \n",
            "\n"
          ]
        }
      ]
    }
  ]
}