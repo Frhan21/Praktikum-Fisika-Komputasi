{
  "nbformat": 4,
  "nbformat_minor": 0,
  "metadata": {
    "colab": {
      "name": "Integral Numerik .ipynb",
      "provenance": [],
      "authorship_tag": "ABX9TyNgB7HpXmcZAI0c+v2jh+tN",
      "include_colab_link": true
    },
    "kernelspec": {
      "name": "python3",
      "display_name": "Python 3"
    },
    "language_info": {
      "name": "python"
    }
  },
  "cells": [
    {
      "cell_type": "markdown",
      "metadata": {
        "id": "view-in-github",
        "colab_type": "text"
      },
      "source": [
        "<a href=\"https://colab.research.google.com/github/Frhan21/Praktikum-Fisika-Komputasi/blob/main/Integral_Numerik_.ipynb\" target=\"_parent\"><img src=\"https://colab.research.google.com/assets/colab-badge.svg\" alt=\"Open In Colab\"/></a>"
      ]
    },
    {
      "cell_type": "code",
      "execution_count": null,
      "metadata": {
        "id": "1TW-l-dScI9s",
        "colab": {
          "base_uri": "https://localhost:8080/"
        },
        "outputId": "dba4b6d3-6c42-4e66-a09e-93cdb696cf2f"
      },
      "outputs": [
        {
          "output_type": "stream",
          "name": "stdout",
          "text": [
            "Hasil Integral adalah = 2476.38\n"
          ]
        }
      ],
      "source": [
        "#Metode Persegi panjang \n",
        "\n",
        "def f(v):\n",
        "  return (8.31*298)/v\n",
        "\n",
        "#Inputan data \n",
        "a = 2.15\n",
        "b = 2.00\n",
        "n = 100\n",
        "dx = (b-a)/n\n",
        "\n",
        "#Inisialisasi\n",
        "x = a\n",
        "jum = 0\n",
        "\n",
        "#Pengulangan \n",
        "for i in range (0,n-1):\n",
        "  jum =+ f(x)\n",
        "  x =+ dx\n",
        "\n",
        "#Mencetak hasil   \n",
        "I = dx * jum \n",
        "print (\"Hasil Integral adalah = %0.2f\" %(I))"
      ]
    },
    {
      "cell_type": "code",
      "source": [
        "#Metode Trapesium\n",
        "def f(q):\n",
        "  return 0.45 * q * 15\n",
        "\n",
        "t  = [0,1,2,3,4,5,6,7,8]\n",
        "q  = [0.1,1.62,5.32,6.29,7.8,8.81,8,8.57,8.03]\n",
        "\n",
        "n = len(t)\n",
        "dx = 1 \n",
        "\n",
        "fa = f(q[0])\n",
        "fb = f(q[n-1])\n",
        "\n",
        "jum = 0\n",
        "for i in range (2,n-2):\n",
        "  jum = jum + 2*f(q[i])\n",
        "\n",
        "L = dx/2 * (fa + fb + jum)\n",
        "print(\"Jumlah panas yang diserap adalah {0:0.3f} cal/cm^2 \".format(L))"
      ],
      "metadata": {
        "id": "d05lmdKJnjWm",
        "colab": {
          "base_uri": "https://localhost:8080/"
        },
        "outputId": "9ea72c21-d99f-498f-cfe4-0f9a4584f0ec"
      },
      "execution_count": null,
      "outputs": [
        {
          "output_type": "stream",
          "name": "stdout",
          "text": [
            "Jumlah panas yang diserap adalah 271.924 cal/cm^2 \n"
          ]
        }
      ]
    },
    {
      "cell_type": "code",
      "source": [
        "#Methode Simpsons\n",
        "\n",
        "import math \n",
        "\n",
        "def f(t):\n",
        "  return 53.3904 * (1-(math.e**(-0.183554*t)))\n",
        "print (math.e)\n",
        "a = 0\n",
        "b = 10\n",
        "N = 200\n",
        "\n",
        "n2 = 2*N \n",
        "dx = (b-a)/n2\n",
        "\n",
        "jum_genap = 0\n",
        "jum_ganjil= 0\n",
        "\n",
        "jum_ganjil= jum_ganjil + f(a+dx)\n",
        "\n",
        "\n",
        "\n",
        "for i in range (1,N-1):\n",
        "  xgen = a + 2*i *dx\n",
        "  xgan = a + (2*i+1)*dx\n",
        "  \n",
        "  jum_genap = jum_genap + f(xgen)\n",
        "  jum_ganjil= jum_ganjil + f(xgan)\n",
        "\n",
        "\n",
        "L = (dx/3) * (f(a)+f(b)+4*jum_ganjil+2*jum_genap)\n",
        "\n",
        "print (\"Penerjun jatuh sejauh {0:0.3f} m dari tempat asal jatuh \".format(L))"
      ],
      "metadata": {
        "id": "AFt_Er6pHikS"
      },
      "execution_count": null,
      "outputs": []
    },
    {
      "cell_type": "code",
      "source": [
        "#Metode Simpsons \n",
        "#Soal UTS No 2 \n",
        "\n",
        "x = [0,2,4,6,8,10,12]\n",
        "rho = [4,3.95,3.80,3.6,3.41,3.3,3.15]\n",
        "A = [100,103,110,120,133,150,177]\n",
        "m = []\n",
        "n = len (x)\n",
        "for i in range (n) : \n",
        "  a = rho[i]*A[i]\n",
        "  m.append(a)\n",
        "print('=======Data - Data Untuk Fungsi Integral=======\\n')\n",
        "print('===============================================')\n",
        "print('   no   |   x   |   rho   |   A   |     m     |')\n",
        "print('-----------------------------------------------')\n",
        "for i in range (n):\n",
        "  print('%5d %7d %10.2f %7d %11.2f' %(i+1,x[i],rho[i],A[i],m[i]))\n",
        "print('===============================================')\n",
        "print()\n",
        "dx = (x[n-1]-x[0])/(2*n)\n",
        "jum_genap = 0 \n",
        "jum_ganjil= 0 \n",
        "\n",
        "x_genap = 0\n",
        "x_ganjil= 0 \n",
        "\n",
        "for i in range (n) :\n",
        "  if i%2 == 0:\n",
        "    x_genap =+ 1 \n",
        "  else :\n",
        "    x_ganjil =+ 1 \n",
        "  \n",
        "  jum_genap =+ m[x_genap]\n",
        "  jum_ganjil=+ m[x_ganjil]\n",
        "\n",
        "I = dx/3 * (m[0] + m[n-1] + 4*jum_ganjil + 2*jum_genap)\n",
        "print('Massa Total dari Integral Fungsi tersebut adalah {0:0.3f} kg'.format(I))\n"
      ],
      "metadata": {
        "colab": {
          "base_uri": "https://localhost:8080/"
        },
        "id": "LCJug4AXlNnR",
        "outputId": "6be13938-c22d-4a46-c6c7-bb6006fe3f9e"
      },
      "execution_count": null,
      "outputs": [
        {
          "output_type": "stream",
          "name": "stdout",
          "text": [
            "=======Data - Data Untuk Fungsi Integral=======\n",
            "\n",
            "===============================================\n",
            "   no   |   x   |   rho   |   A   |     m     |\n",
            "-----------------------------------------------\n",
            "    1       0       4.00     100      400.00\n",
            "    2       2       3.95     103      406.85\n",
            "    3       4       3.80     110      418.00\n",
            "    4       6       3.60     120      432.00\n",
            "    5       8       3.41     133      453.53\n",
            "    6      10       3.30     150      495.00\n",
            "    7      12       3.15     177      557.55\n",
            "===============================================\n",
            "\n",
            "Massa Total dari Integral Fungsi tersebut adalah 971.043 kg\n"
          ]
        }
      ]
    },
    {
      "cell_type": "code",
      "source": [
        "\n",
        "\n",
        "def f(x):\n",
        "   return x**2\n",
        "\n",
        "a = 0 \n",
        "b = 10 \n",
        "N = 100\n",
        "dx = (b-a)/N\n",
        "\n",
        "fa = f(a)\n",
        "fb = f(b)\n",
        "\n",
        "x = a + dx\n",
        "jum = 0\n",
        "\n",
        "for i in range (1,N):\n",
        "  jum = jum + 2*f(x)\n",
        "  x =+ dx\n",
        "\n",
        "L = dx/2 * (fa + fb + jum)\n",
        "print(\"Hasil Integral dari fungsi f(x) = x**2 adalah {0:0.1f} \".format(L))"
      ],
      "metadata": {
        "colab": {
          "base_uri": "https://localhost:8080/"
        },
        "id": "BOo3vDbtZ1bz",
        "outputId": "1d53e687-161f-4c7a-be11-ddcd5d36a5f0"
      },
      "execution_count": null,
      "outputs": [
        {
          "output_type": "stream",
          "name": "stdout",
          "text": [
            "Hasil Integral dari fungsi f(x) = x**2 adalah 5.1 \n"
          ]
        }
      ]
    }
  ]
}